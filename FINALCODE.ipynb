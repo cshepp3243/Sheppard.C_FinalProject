{
 "cells": [
  {
   "cell_type": "code",
   "execution_count": null,
   "id": "ab2523b7-2027-44f5-866f-b9eb45b74607",
   "metadata": {},
   "outputs": [],
   "source": [
    "#rerun kernel if CSV data not going \n",
    "# if does not recognize ctd.csv then redo filepath and change file location \n",
    "##import packages \n",
    "import numpy as np \n",
    "import pandas as pd\n",
    "from datetime import datetime\n",
    "import matplotlib.pyplot as plt\n",
    "import xarray as xr\n",
    "import seaborn as sns\n",
    "#opening filepath \n",
    "filepath='final-project/CTD.csv'\n",
    "#file_obj opening dataset\n",
    "file_obj= pd.read_csv(filepath,na_values = 'nd')\n",
    "#indexing sites \n",
    "sites= file_obj['site']\n",
    "#file_obj.columns"
   ]
  },
  {
   "cell_type": "code",
   "execution_count": 3,
   "id": "ae3a5432-cd41-4df9-9da7-f79279df1de0",
   "metadata": {},
   "outputs": [
    {
     "ename": "NameError",
     "evalue": "name 'file_obj' is not defined",
     "output_type": "error",
     "traceback": [
      "\u001b[0;31m---------------------------------------------------------------------------\u001b[0m",
      "\u001b[0;31mNameError\u001b[0m                                 Traceback (most recent call last)",
      "Cell \u001b[0;32mIn[3], line 2\u001b[0m\n\u001b[1;32m      1\u001b[0m \u001b[38;5;66;03m# sites 2018\u001b[39;00m\n\u001b[0;32m----> 2\u001b[0m file_obj[\u001b[38;5;124m'\u001b[39m\u001b[38;5;124mcast_time_PST\u001b[39m\u001b[38;5;124m'\u001b[39m] \u001b[38;5;241m=\u001b[39m pd\u001b[38;5;241m.\u001b[39mto_datetime(\u001b[43mfile_obj\u001b[49m[\u001b[38;5;124m'\u001b[39m\u001b[38;5;124mcast_time_PST\u001b[39m\u001b[38;5;124m'\u001b[39m])\n\u001b[1;32m      3\u001b[0m eksite\u001b[38;5;241m=\u001b[39m file_obj\u001b[38;5;241m.\u001b[39mloc[file_obj[\u001b[38;5;124m'\u001b[39m\u001b[38;5;124msite\u001b[39m\u001b[38;5;124m'\u001b[39m]\u001b[38;5;241m==\u001b[39m\u001b[38;5;124m'\u001b[39m\u001b[38;5;124mEK\u001b[39m\u001b[38;5;124m'\u001b[39m]\n\u001b[1;32m      4\u001b[0m eosite \u001b[38;5;241m=\u001b[39m file_obj\u001b[38;5;241m.\u001b[39mloc[file_obj[\u001b[38;5;124m'\u001b[39m\u001b[38;5;124msite\u001b[39m\u001b[38;5;124m'\u001b[39m]\u001b[38;5;241m==\u001b[39m\u001b[38;5;124m'\u001b[39m\u001b[38;5;124mEO\u001b[39m\u001b[38;5;124m'\u001b[39m]\n",
      "\u001b[0;31mNameError\u001b[0m: name 'file_obj' is not defined"
     ]
    }
   ],
   "source": [
    "# sites 2018\n",
    "file_obj['cast_time_PST'] = pd.to_datetime(file_obj['cast_time_PST'])\n",
    "eksite= file_obj.loc[file_obj['site']=='EK']\n",
    "eosite = file_obj.loc[file_obj['site']=='EO']\n",
    "\n",
    "#sites 2019\n",
    "oksite= file_obj.loc[file_obj['site']=='OK']\n",
    "oosite= file_obj.loc[file_obj['site']=='OO']"
   ]
  },
  {
   "cell_type": "code",
   "execution_count": 4,
   "id": "fc6a105a-7def-4251-83f5-d5712a5dd832",
   "metadata": {},
   "outputs": [
    {
     "ename": "NameError",
     "evalue": "name 'file_obj' is not defined",
     "output_type": "error",
     "traceback": [
      "\u001b[0;31m---------------------------------------------------------------------------\u001b[0m",
      "\u001b[0;31mNameError\u001b[0m                                 Traceback (most recent call last)",
      "Cell \u001b[0;32mIn[4], line 2\u001b[0m\n\u001b[1;32m      1\u001b[0m \u001b[38;5;66;03m#time 2018\u001b[39;00m\n\u001b[0;32m----> 2\u001b[0m ekpst\u001b[38;5;241m=\u001b[39m \u001b[43mfile_obj\u001b[49m\u001b[38;5;241m.\u001b[39mloc[file_obj[\u001b[38;5;124m'\u001b[39m\u001b[38;5;124msite\u001b[39m\u001b[38;5;124m'\u001b[39m]\u001b[38;5;241m==\u001b[39m\u001b[38;5;124m'\u001b[39m\u001b[38;5;124mEK\u001b[39m\u001b[38;5;124m'\u001b[39m, \u001b[38;5;124m'\u001b[39m\u001b[38;5;124mcast_time_PST\u001b[39m\u001b[38;5;124m'\u001b[39m]\n\u001b[1;32m      3\u001b[0m eopst\u001b[38;5;241m=\u001b[39m  file_obj\u001b[38;5;241m.\u001b[39mloc[file_obj[\u001b[38;5;124m'\u001b[39m\u001b[38;5;124msite\u001b[39m\u001b[38;5;124m'\u001b[39m]\u001b[38;5;241m==\u001b[39m\u001b[38;5;124m'\u001b[39m\u001b[38;5;124mEO\u001b[39m\u001b[38;5;124m'\u001b[39m, \u001b[38;5;124m'\u001b[39m\u001b[38;5;124mcast_time_PST\u001b[39m\u001b[38;5;124m'\u001b[39m]\n\u001b[1;32m      5\u001b[0m \u001b[38;5;66;03m#time 2019\u001b[39;00m\n",
      "\u001b[0;31mNameError\u001b[0m: name 'file_obj' is not defined"
     ]
    }
   ],
   "source": [
    "#time 2018\n",
    "ekpst= file_obj.loc[file_obj['site']=='EK', 'cast_time_PST']\n",
    "eopst=  file_obj.loc[file_obj['site']=='EO', 'cast_time_PST']\n",
    "\n",
    "#time 2019\n",
    "okpst= file_obj.loc[file_obj['site']=='OK', 'cast_time_PST']\n",
    "oopst=  file_obj.loc[file_obj['site']=='OO', 'cast_time_PST']\n",
    "\n",
    "#getting dates into datetime\n",
    "ekpst= pd.to_datetime(ekpst)\n",
    "eopst= pd.to_datetime(eopst)\n",
    "okpst=pd.to_datetime(okpst)\n",
    "oopst= pd.to_datetime(oopst)"
   ]
  },
  {
   "cell_type": "code",
   "execution_count": null,
   "id": "42aa2169-a689-4aec-9338-ae4fc47817f4",
   "metadata": {},
   "outputs": [],
   "source": [
    "#oxygen 2018\n",
    "eko2= eksite['oxygen']\n",
    "eoo2= eosite['oxygen']\n",
    "\n",
    "#oxygen 2019\n",
    "oko2= oksite['oxygen']\n",
    "ooo2= oosite['oxygen']\n"
   ]
  },
  {
   "cell_type": "code",
   "execution_count": null,
   "id": "2c4e6766-d07f-4cd4-802b-4fea8bda9792",
   "metadata": {},
   "outputs": [],
   "source": [
    "#turbidity 2018\n",
    "ekturb= eksite['turbidity']\n",
    "eoturb= eosite['turbidity']\n",
    "\n",
    "#turbidity 2019\n",
    "okturb= oksite['turbidity']\n",
    "ooturb= oosite['turbidity']"
   ]
  },
  {
   "cell_type": "code",
   "execution_count": null,
   "id": "83c72694-8bda-416f-a65e-1e4af388f51a",
   "metadata": {},
   "outputs": [],
   "source": [
    "#fluorescence 2018\n",
    "ekf= eksite['fluorescence']\n",
    "eof= eosite['fluorescence']\n",
    "\n",
    "#fluorescence 2019\n",
    "okf= oksite['fluorescence']\n",
    "oof= oosite['fluorescence']\n"
   ]
  },
  {
   "cell_type": "code",
   "execution_count": null,
   "id": "c8c47acb-36fb-47ff-bc7e-bf7c4e6571c5",
   "metadata": {},
   "outputs": [],
   "source": [
    "# markerfacecolor change marker colors\n",
    "\n"
   ]
  },
  {
   "cell_type": "code",
   "execution_count": null,
   "id": "f81e7c0f-9d75-47be-acde-a8086fe2e07e",
   "metadata": {},
   "outputs": [],
   "source": [
    "test = file_obj.loc[(file_obj['site']=='EK') | (file_obj['site']=='EO')]\n",
    "#2018 Oxygen \n",
    "#seaborn plot\n",
    "sns.lineplot(data = test, x='cast_time_PST', y = 'oxygen', hue = 'site',palette=['teal', 'coral'])\n",
    "plt.xticks(rotation=45, ha='right')\n",
    "plt.legend(bbox_to_anchor=(1.02, 1), loc='upper left', borderaxespad=0, labels=['Kelp Site','Kelp Site Error Bars', 'Offshore Site', 'Offshore Site Error Bars'])\n",
    "# used https://www.tutorialspoint.com/how-to-set-axes-labels-amp-limits-in-a-seaborn-plot#:~:text=Next%2C%20create%20the%20box%20plot,say%20something%20on%20horizontal%20axis%5D.\n",
    "# to set labels \n",
    "plt.ylabel('Oxygen (mg/L)')\n",
    "plt.xlabel('Time (years)')\n",
    "plt.title('[O2] for JUN-AUG 2018')\n",
    "plt.grid()\n"
   ]
  },
  {
   "cell_type": "code",
   "execution_count": null,
   "id": "5c66c6da-91c0-48ec-828b-1e013f40efd3",
   "metadata": {
    "tags": []
   },
   "outputs": [],
   "source": [
    "#combining site locations to analyze both sites in the same graph\n",
    "test = file_obj.loc[(file_obj['site']=='OK') | (file_obj['site']=='OO')]\n",
    "\n",
    "#seaborn plot o2 2019\n",
    "sns.lineplot(data = test, x='cast_time_PST', y = 'oxygen', hue = 'site',palette=['teal', 'coral'])\n",
    "\n",
    "# got my legend outside my graph for better visualization\n",
    "#used https://www.statology.org/seaborn-legend-outside/ as a reference \n",
    "plt.legend(bbox_to_anchor=(1.02, 0.15), loc='upper left', borderaxespad=0, labels=['Kelp Site','Kelp Site Error Bars', 'Offshore Site', 'Offshore Site Error Bars'])\n",
    "plt.xticks(rotation=45, ha='right')\n",
    "\n",
    "# used https://www.tutorialspoint.com/how-to-set-axes-labels-amp-limits-in-a-seaborn-plot#:~:text=Next%2C%20create%20the%20box%20plot,say%20something%20on%20horizontal%20axis%5D.\n",
    "# to set labels \n",
    "plt.ylabel('Oxygen (mg/L)')\n",
    "plt.xlabel('Time (years)')\n",
    "plt.title('[O2] for JUN-AUG 2019')\n",
    "plt.grid()"
   ]
  },
  {
   "cell_type": "code",
   "execution_count": null,
   "id": "27eb22e8-dcac-4487-ac56-0e23c118d232",
   "metadata": {
    "tags": []
   },
   "outputs": [],
   "source": [
    "##turbididty graph 2018\n",
    "test2 = file_obj.loc[(file_obj['site']=='EK') | (file_obj['site']=='EO')]\n",
    "sns.lineplot(data = test2, x='cast_time_PST', y = 'turbidity', hue = 'site',palette=['teal', 'coral'])\n",
    "\n",
    "plt.legend(bbox_to_anchor=(1.02, 1), loc='upper left', borderaxespad=0, labels=['Kelp Site','Kelp Site Error Bars', 'Offshore Site', 'Offshore Site Error Bars'])\n",
    "plt.xticks(rotation=45, ha='right')\n",
    "\n",
    "# used https://www.tutorialspoint.com/how-to-set-axes-labels-amp-limits-in-a-seaborn-plot#:~:text=Next%2C%20create%20the%20box%20plot,say%20something%20on%20horizontal%20axis%5D.\n",
    "# to set labels \n",
    "plt.ylabel('Turbidity NTU')\n",
    "plt.xlabel('Time (years)')\n",
    "plt.title('[Turbidity] for JUN-AUG 2018')\n",
    "plt.grid()"
   ]
  },
  {
   "cell_type": "code",
   "execution_count": null,
   "id": "0270d9af-524d-4517-8020-df0c3c946f4c",
   "metadata": {
    "tags": []
   },
   "outputs": [],
   "source": [
    "\n",
    "##Turbidity graph 2019\n",
    "test2 = file_obj.loc[(file_obj['site']=='OK') | (file_obj['site']=='OO')]\n",
    "sns.lineplot(data = test2, x='cast_time_PST', y = 'turbidity', hue = 'site',palette=['teal', 'coral'])\n",
    "\n",
    "plt.legend(bbox_to_anchor=(1.02, 1), loc='upper left', borderaxespad=0, labels=['Kelp Site','Kelp Site Error Bars', 'Offshore Site', 'Offshore Site Error Bars'])\n",
    "plt.xticks(rotation=45, ha='right')\n",
    "\n",
    "# used https://www.tutorialspoint.com/how-to-set-axes-labels-amp-limits-in-a-seaborn-plot#:~:text=Next%2C%20create%20the%20box%20plot,say%20something%20on%20horizontal%20axis%5D.\n",
    "# to set labels \n",
    "plt.ylabel('Turbidity NTU')\n",
    "plt.xlabel('Time (years)')\n",
    "plt.title('[Turbidity] for JUN-AUG 2019')\n",
    "plt.grid()"
   ]
  },
  {
   "cell_type": "code",
   "execution_count": null,
   "id": "56748bd6-e6ee-4aef-bd41-c2755ae52590",
   "metadata": {
    "tags": []
   },
   "outputs": [],
   "source": [
    "##FLUORESCENCE graph 2018\n",
    "\n",
    "test = file_obj.loc[(file_obj['site']=='EK') | (file_obj['site']=='EO')]\n",
    "sns.lineplot(data = test, x='cast_time_PST', y = 'fluorescence', hue = 'site',palette=['teal', 'coral'])\n",
    "plt.xticks(rotation=45, ha='right')\n",
    "plt.legend(bbox_to_anchor=(1.02, 1), loc='upper left', borderaxespad=0, labels=['Kelp Site','Kelp Site Error Bars', 'Offshore Site', 'Offshore Site Error Bars'])\n",
    "# used https://www.tutorialspoint.com/how-to-set-axes-labels-amp-limits-in-a-seaborn-plot#:~:text=Next%2C%20create%20the%20box%20plot,say%20something%20on%20horizontal%20axis%5D.\n",
    "# to set labels \n",
    "plt.ylabel('Fluorescence (mg/m^3)')\n",
    "plt.xlabel('Time (years)')\n",
    "plt.title('[Fluorescence] for JUN-AUG 2018')\n",
    "\n",
    "plt.grid()"
   ]
  },
  {
   "cell_type": "code",
   "execution_count": null,
   "id": "e94ee55b-abf5-4c7e-960e-c9a96b950449",
   "metadata": {
    "tags": []
   },
   "outputs": [],
   "source": [
    "##FLUORESCENCE graph 2019\n",
    "test2 = file_obj.loc[(file_obj['site']=='OK') | (file_obj['site']=='OO')]\n",
    "sns.lineplot(data = test2, x='cast_time_PST', y = 'fluorescence', hue = 'site',palette=['teal', 'coral'])\n",
    "plt.xticks(rotation=45, ha='right')\n",
    "plt.legend(bbox_to_anchor=(1.02, 1), loc='upper left', borderaxespad=0, labels=['Kelp Site','Kelp Site Error Bars', 'Offshore Site', 'Offshore Site Error Bars'])\n",
    "# used https://www.tutorialspoint.com/how-to-set-axes-labels-amp-limits-in-a-seaborn-plot#:~:text=Next%2C%20create%20the%20box%20plot,say%20something%20on%20horizontal%20axis%5D.\n",
    "# to set labels \n",
    "plt.ylabel('Fluorescence (mg/m^3)')\n",
    "plt.xlabel('Time (years)')\n",
    "plt.title('[Fluorescence] for JUN-AUG 2019')\n",
    "plt.grid()"
   ]
  },
  {
   "cell_type": "code",
   "execution_count": null,
   "id": "937b230f-b454-43fd-8885-45d8cd017047",
   "metadata": {
    "tags": []
   },
   "outputs": [],
   "source": [
    "# averages for turbidity\n",
    "#2018 kelp\n",
    "abg = np.mean(ekturb)\n",
    "#2018 offshore\n",
    "avg = np.mean(eoturb)\n",
    "print(abg,'NTU mean for Turbidity in Kelp Site 2018')\n",
    "print(avg,'NTU mean for Turbidity in Offshore Site 2018')\n",
    "#2019 kelp\n",
    "bg = np.mean(okturb)\n",
    "#2019 offshore\n",
    "vg = np.mean(ooturb)\n",
    "print(bg,'NTU mean for Turbidity in Kelp Site 2019')\n",
    "print(vg,'NTU mean for Turbidity in Offshore Site 2019')\n",
    "#average for both years\n",
    "#kelp\n",
    "print(np.mean((abg+bg)/2),'NTU mean for Turbidity in Kelp Site 2018 & 2019')\n",
    "#offshore \n",
    "print(np.mean((avg+vg)/2),'NTU mean for Turbidity in Offshore Site 2018 & 2019')"
   ]
  },
  {
   "cell_type": "code",
   "execution_count": null,
   "id": "a7cf61e8-1e34-4329-af8b-fb161e52557c",
   "metadata": {
    "tags": []
   },
   "outputs": [],
   "source": [
    "# averages for oxygen \n",
    "#2018 kelp\n",
    "abg = np.mean(eko2)\n",
    "#2018 offshore\n",
    "avg = np.mean(eoo2)\n",
    "print('Means for Oxygen')\n",
    "print(abg, 'mg/L mean for [O2] in Kelp Site 2018')\n",
    "print(avg, 'mg/L mean for [O2] in Offshore Site 2018')\n",
    "#2019 kelp\n",
    "bg = np.mean(oko2)\n",
    "#2019 offshore\n",
    "vg = np.mean(ooo2)\n",
    "print(bg, 'mg/L mean for [O2] in Kelp Site 2019')\n",
    "print(vg, 'mg/L mean for [O2] in Offshore Site 2018')\n",
    "#average for both years\n",
    "#kelp\n",
    "\n",
    "print(np.mean((abg+bg)/2), 'mg/L mean for [O2] in Kelp Site 2018 & 2019')\n",
    "#offshore \n",
    "print(np.mean((avg+vg)/2),'mg/L mean for [O2] in Offshore Site 2018 & 2019')"
   ]
  },
  {
   "cell_type": "code",
   "execution_count": null,
   "id": "23ab4022-15e7-4e63-946d-b26f753d28a2",
   "metadata": {},
   "outputs": [],
   "source": [
    "#oxygen 2018 graph\n",
    "\n",
    "fig,(axs)= plt.subplots()\n",
    "axs=plt.gca()\n",
    "axs.scatter(eopst, eoo2, c='lime', label= '[O2] OFFSHORE')\n",
    "axs.scatter(ekpst, eko2, c='black',label='[O2] KELP')\n",
    "\n",
    "#used https://stackoverflow.com/questions/10998621/rotate-axis-tick-labels as a reference to rotate x axis values \n",
    "plt.xticks(rotation=45, ha='right')\n",
    "axs.legend(loc='lower left')\n",
    "axs.set_ylabel('[Oxygen] mg/L')\n",
    "axs.set_xlabel('Time')\n",
    "axs.set_title('[O2] for JUN-AUG 2018')\n",
    "axs.grid()\n",
    "\n",
    "#oxygen 2019 graph \n",
    "\n",
    "fig,(axs)= plt.subplots()\n",
    "axs=plt.gca()\n",
    "## switched kelp and offshore scatters to get better view of kelp \n",
    "axs.scatter(oopst, ooo2, c='lime',label= '[O2] OFFSHORE')\n",
    "axs.scatter(okpst, oko2, c='black',label= '[O2] KELP')\n",
    "\n",
    "#used https://stackoverflow.com/questions/10998621/rotate-axis-tick-labels as a reference to rotate x axis values \n",
    "plt.xticks(rotation=45, ha='right')\n",
    "axs.set_ylabel('[Oxygen] mg/L')\n",
    "axs.set_xlabel('Time')\n",
    "axs.set_title('[O2] for JUN-AUG 2019')\n",
    "axs.legend(loc='lower right')\n",
    "axs.grid()"
   ]
  },
  {
   "cell_type": "code",
   "execution_count": null,
   "id": "37bb0502-b58f-475c-a477-33e0fa3373bb",
   "metadata": {},
   "outputs": [],
   "source": [
    "#turbidity 2018 graph\n",
    "##sns.linep\n",
    "fig,(axs)= plt.subplots()\n",
    "axs=plt.gca()\n",
    "axs.scatter(eopst, eoturb, c='darkorange', label= '[TURBIDITY] OFFSHORE')\n",
    "axs.scatter(ekpst, ekturb, c='black',label='[TURBIDITY] KELP')\n",
    "\n",
    "#used https://stackoverflow.com/questions/10998621/rotate-axis-tick-labels as a reference to rotate x axis values \n",
    "plt.xticks(rotation=45, ha='right')\n",
    "axs.legend(loc='upper left')\n",
    "axs.set_ylabel('[Turbidity] NTU')\n",
    "axs.set_xlabel('Time')\n",
    "axs.set_title('[Turbidity] for JUN-AUG 2018')\n",
    "axs.grid()\n",
    "axs.set_ylim([0,8])\n",
    "\n",
    "\n",
    "#turbidity 2019 graph \n",
    "\n",
    "fig,(axs)= plt.subplots()\n",
    "axs=plt.gca()\n",
    "axs.scatter(oopst, ooturb, c='darkorange',label= '[TURBIDITY] OFFSHORE')\n",
    "axs.scatter(okpst, okturb, c='black',label= '[TURBIDITY] KELP')\n",
    "\n",
    "#used https://stackoverflow.com/questions/10998621/rotate-axis-tick-labels as a reference to rotate x axis values \n",
    "plt.xticks(rotation=45, ha='right')\n",
    "axs.set_ylabel('[Turbidity] NTU')\n",
    "axs.set_xlabel('Time')\n",
    "axs.set_title('[Turbidity] for JUN-AUG 2019')\n",
    "axs.legend(loc='upper left')\n",
    "axs.grid()\n",
    "axs.set_ylim([0,8])"
   ]
  },
  {
   "cell_type": "code",
   "execution_count": null,
   "id": "53d2bef4-bc36-4f76-822a-fc210505ed75",
   "metadata": {},
   "outputs": [],
   "source": [
    "## turbidity zoom in\n",
    "\n",
    "#turbidity 2018 graph\n",
    "\n",
    "fig,(axs)= plt.subplots()\n",
    "axs=plt.gca()\n",
    "axs.scatter(eopst, eoturb, c='dodgerblue', label= '[TURBIDITY] OFFSHORE')\n",
    "axs.scatter(ekpst, ekturb, c='black',label='[TURBIDITY] KELP')\n",
    "\n",
    "#used https://stackoverflow.com/questions/10998621/rotate-axis-tick-labels as a reference to rotate x axis values \n",
    "plt.xticks(rotation=45, ha='right')\n",
    "axs.legend(loc='upper left')\n",
    "axs.set_ylabel('[Turbidity] NTU')\n",
    "axs.set_xlabel('Time')\n",
    "axs.set_title('[Turbidity] for Offshore Site JUN-AUG 2018')\n",
    "axs.grid()\n",
    "axs.set_ylim([0,4])\n",
    "#turbidity 2019 graph zoom in \n",
    "\n",
    "fig,(axs)= plt.subplots()\n",
    "axs=plt.gca()\n",
    "axs.scatter(oopst, ooturb, c='dodgerblue',label= '[TURBIDITY] OFFSHORE')\n",
    "axs.scatter(okpst, okturb, c='black',label= '[TURBIDITY] KELP')\n",
    "\n",
    "#used https://stackoverflow.com/questions/10998621/rotate-axis-tick-labels as a reference to rotate x axis values \n",
    "plt.xticks(rotation=45, ha='right')\n",
    "axs.set_ylabel('[Turbidity] NTU')\n",
    "axs.set_xlabel('Time')\n",
    "axs.set_title('[Turbidity] for Offshore Site JUN-AUG 2019')\n",
    "axs.legend(loc='upper left')\n",
    "axs.grid()\n",
    "axs.set_ylim([0,4])"
   ]
  },
  {
   "cell_type": "code",
   "execution_count": null,
   "id": "66a35cab-9a3c-449a-af54-8422fbf906c1",
   "metadata": {
    "tags": []
   },
   "outputs": [],
   "source": [
    "#fluorescence graph 2018\n",
    "\n",
    "\n",
    "fig,(axs)= plt.subplots()\n",
    "axs=plt.gca()\n",
    "axs.scatter(eopst, eof, c='fuchsia', label= '[fluorescence] OFFSHORE')\n",
    "axs.scatter(ekpst, ekf, c='black',label='[fluorescence] KELP')\n",
    "\n",
    "#used https://stackoverflow.com/questions/10998621/rotate-axis-tick-labels as a reference to rotate x axis values \n",
    "plt.xticks(rotation=45, ha='right')\n",
    "axs.legend(loc='upper right')\n",
    "axs.set_ylabel('Fluorescence (mg/m^3)')\n",
    "axs.set_xlabel('Time')\n",
    "axs.set_title('Fluorescence(mg/m^3) for Offshore Site JUN-AUG 2018')\n",
    "axs.grid()\n",
    "\n",
    "#fluorescence graph 2019\n",
    "\n",
    "fig,(axs)= plt.subplots()\n",
    "axs=plt.gca()\n",
    "axs.scatter(oopst, ooo2, c='fuchsia',label= '[O2] OFFSHORE')\n",
    "axs.scatter(okpst, oko2, c='black',label= '[O2] KELP')\n",
    "\n",
    "#used https://stackoverflow.com/questions/10998621/rotate-axis-tick-labels as a reference to rotate x axis values \n",
    "plt.xticks(rotation=45, ha='right')\n",
    "axs.set_ylabel('Fluorescence (mg/m^3)')\n",
    "axs.set_xlabel('Time')\n",
    "axs.set_title('Fluorescence(mg/m^3) for Offshore Site JUN-AUG 2019')\n",
    "axs.legend(loc='lower right')\n",
    "axs.grid()"
   ]
  }
 ],
 "metadata": {
  "kernelspec": {
   "display_name": "Python 3 (ipykernel)",
   "language": "python",
   "name": "python3"
  },
  "language_info": {
   "codemirror_mode": {
    "name": "ipython",
    "version": 3
   },
   "file_extension": ".py",
   "mimetype": "text/x-python",
   "name": "python",
   "nbconvert_exporter": "python",
   "pygments_lexer": "ipython3",
   "version": "3.10.10"
  }
 },
 "nbformat": 4,
 "nbformat_minor": 5
}
